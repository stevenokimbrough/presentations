{
 "cells": [
  {
   "cell_type": "markdown",
   "metadata": {},
   "source": [
    "# Notebook for Hedging Calculations\n",
    "\n",
    "See \"Calculations on Rolling Hedges\" by Steve Kimbrough, rolling-hedges.tex/pdf for development of the model for rolling hedges, which is implemented here.\n",
    "\n",
    "Markdown reference: https://jupyter-notebook.readthedocs.io/en/stable/examples/Notebook/Working%20With%20Markdown%20Cells.html"
   ]
  },
  {
   "cell_type": "markdown",
   "metadata": {},
   "source": [
    "### With:\n",
    "\n",
    "Henry Hub spot prices: https://www.eia.gov/dnav/ng/hist/rngwhhdM.htmhttps://www.eia.gov/dnav/ng/hist/rngwhhdM.htm\n",
    "\n",
    "EIA natural gas prices: https://www.eia.gov/dnav/ng/ng_pri_sum_dcu_nus_m.htm\n",
    "\n",
    "EIA gas prices for utilities: https://www.eia.gov/dnav/ng/hist/n3045us3m.htm\n",
    "\n",
    "EIA Henry Hub prices https://www.eia.gov/dnav/ng/hist/n3045us3m.htm\n",
    "\n",
    "Henry Hub futures: https://www.cmegroup.com/trading/energy/natural-gas/natural-gas.html\n"
   ]
  },
  {
   "cell_type": "code",
   "execution_count": 1,
   "metadata": {},
   "outputs": [],
   "source": [
    "import math"
   ]
  },
  {
   "cell_type": "markdown",
   "metadata": {},
   "source": [
    "### Capital Recovery Function\n",
    "\n",
    "A(nnual) payments given P(resent) outlay (for n years at interest rate r)"
   ]
  },
  {
   "cell_type": "code",
   "execution_count": 2,
   "metadata": {},
   "outputs": [],
   "source": [
    "def AgivenP(K, r, n):\n",
    "    '''\n",
    "    Given a present outlay of capital (debt) K, an interest rate\n",
    "    or hurdle rate, r, and a period of n years to repay the\n",
    "    debt, returns the annual payments. 5% interest means r = 0.05.\n",
    "    '''\n",
    "    numer = r * (1 + r) ** n\n",
    "    denom = (1 + r) ** n - 1\n",
    "    return K * numer / denom"
   ]
  },
  {
   "cell_type": "code",
   "execution_count": 3,
   "metadata": {},
   "outputs": [],
   "source": [
    "def crf(r,n):\n",
    "    '''\n",
    "    Capital recovery factor. See AgivenP, above.\n",
    "    \n",
    "    '''\n",
    "    numer = r * (1 + r) ** n\n",
    "    denom = (1 + r) ** n - 1\n",
    "    return numer / denom"
   ]
  },
  {
   "cell_type": "markdown",
   "metadata": {},
   "source": [
    "### Hedging Setup\n",
    "\n",
    "l lifetime of the project\n",
    "\n",
    "n periods, assuming monthly duration n = 12*l\n",
    "\n",
    "r annual interest rate\n",
    "\n",
    "S_0 spot price at time 0 (S(0) when typeset)\n",
    "\n",
    "F_t futures price at time $t-1$\n",
    "\n",
    "With simplifications (see the paper), the initial outlay is $nF(1)$.\n"
   ]
  },
  {
   "cell_type": "code",
   "execution_count": 4,
   "metadata": {},
   "outputs": [
    {
     "name": "stdout",
     "output_type": "stream",
     "text": [
      "240 0.0016666666666666668 0.005 2.67\n"
     ]
    }
   ],
   "source": [
    "#### Actually used:\n",
    "\n",
    "i = 120 # test period index\n",
    "b = 0.02/12 # monthly interest rate on money in brokerage account\n",
    "c = 0.06/12 # firm's weighted cost of capital\n",
    "F_1 = 2.67 # Initial futures price at t = 0.\n",
    "n = 240 # months in 20 years\n",
    "print(n,b,c, F_1)"
   ]
  },
  {
   "cell_type": "markdown",
   "metadata": {},
   "source": [
    "### Comparing Henry Hub and Utility Prices\n",
    "\n",
    "Electric utilities get a deal on natural gas, but it is \n",
    "still higher than the Henry Hub price, for obvious reasons.\n",
    "\n",
    "In June 2019, the Henry Hub price was \\\\$2.40 per million Btu and the\n",
    "utility price was \\\\$2.67. As a percentage the premium is"
   ]
  },
  {
   "cell_type": "code",
   "execution_count": 5,
   "metadata": {},
   "outputs": [
    {
     "name": "stdout",
     "output_type": "stream",
     "text": [
      "1.1125\n"
     ]
    }
   ],
   "source": [
    "premium = 2.67/2.40\n",
    "print(premium)"
   ]
  },
  {
   "cell_type": "markdown",
   "metadata": {},
   "source": [
    "# 2019-09-03\n",
    "\n",
    "See my lab notebook for today, page 8"
   ]
  },
  {
   "cell_type": "markdown",
   "metadata": {},
   "source": [
    "## Background\n",
    "\n",
    "We want to hedge (natural gas) prices for all of $n$ periods \n",
    "(assuming months) going forward.\n",
    "\n",
    "First calculations for a single line, $i$."
   ]
  },
  {
   "cell_type": "code",
   "execution_count": 6,
   "metadata": {},
   "outputs": [
    {
     "name": "stdout",
     "output_type": "stream",
     "text": [
      "0.5911453642876534\n"
     ]
    }
   ],
   "source": [
    "def closingAmount(i,F,b):\n",
    "     return F*math.e**(b*i) - F\n",
    "closingAmt = closingAmount(i,F_1,b)\n",
    "print(closingAmt)"
   ]
  },
  {
   "cell_type": "code",
   "execution_count": 7,
   "metadata": {},
   "outputs": [
    {
     "name": "stdout",
     "output_type": "stream",
     "text": [
      "2.195057197042659\n"
     ]
    }
   ],
   "source": [
    "def opportunityCost(i,F,c):\n",
    "    return F_1*math.e**(c*i) - F_1\n",
    "\n",
    "oppCost = opportunityCost(i,F_1,c)\n",
    "print(oppCost)"
   ]
  },
  {
   "cell_type": "code",
   "execution_count": 8,
   "metadata": {},
   "outputs": [
    {
     "name": "stdout",
     "output_type": "stream",
     "text": [
      "1.6039118327550055\n"
     ]
    }
   ],
   "source": [
    "def realPrice(i,F,b,c):\n",
    "    return opportunityCost(i,F,c) - closingAmount(i,F,b)\n",
    "realPrice_i = realPrice(i,F_1,b,c)\n",
    "\n",
    "print(realPrice_i)"
   ]
  },
  {
   "cell_type": "code",
   "execution_count": 9,
   "metadata": {},
   "outputs": [
    {
     "name": "stdout",
     "output_type": "stream",
     "text": [
      "0.8802454770848431\n"
     ]
    }
   ],
   "source": [
    "def PV(i,F,b,c):\n",
    "    return realPrice(i,F,b,c)/math.e**(c*i)\n",
    "\n",
    "PV_i = PV(i,F_1,b,c)\n",
    "print(PV_i)"
   ]
  },
  {
   "cell_type": "code",
   "execution_count": 10,
   "metadata": {},
   "outputs": [
    {
     "name": "stdout",
     "output_type": "stream",
     "text": [
      "3.550245477084843\n"
     ]
    }
   ],
   "source": [
    "def NPV(i,F,b,c):\n",
    "    return F + PV(i,F,b,c)\n",
    "\n",
    "NPV_i = NPV(i,F_1,b,c)\n",
    "print(NPV_i)"
   ]
  },
  {
   "cell_type": "code",
   "execution_count": 11,
   "metadata": {},
   "outputs": [],
   "source": [
    "def NPVS(i,F,b,c,n):\n",
    "    toReturn = 0\n",
    "    for i in range(1,n+1):\n",
    "        toReturn += NPV(i,F,b,c)\n",
    "    return toReturn\n",
    "\n",
    "SystemNPV = NPVS(i,F_1,b,c,n)"
   ]
  },
  {
   "cell_type": "code",
   "execution_count": 12,
   "metadata": {},
   "outputs": [
    {
     "data": {
      "text/plain": [
       "841.2472376765215"
      ]
     },
     "execution_count": 12,
     "metadata": {},
     "output_type": "execute_result"
    }
   ],
   "source": [
    "SystemNPV # The net present value of all outlays for the hedge"
   ]
  },
  {
   "cell_type": "code",
   "execution_count": 13,
   "metadata": {},
   "outputs": [],
   "source": [
    "def monthlyUnitCost(i,F,b,c,n):\n",
    "    '''\n",
    "    = SystemNPV*crf\n",
    "    '''\n",
    "    return NPVS(i,F,b,c,n)*crf(c,n)\n",
    "monthUnitCost = monthlyUnitCost(i,F_1,b,c,n)"
   ]
  },
  {
   "cell_type": "code",
   "execution_count": 14,
   "metadata": {},
   "outputs": [
    {
     "data": {
      "text/plain": [
       "6.026956489304293"
      ]
     },
     "execution_count": 14,
     "metadata": {},
     "output_type": "execute_result"
    }
   ],
   "source": [
    "monthUnitCost"
   ]
  },
  {
   "cell_type": "markdown",
   "metadata": {},
   "source": [
    "# Using current futures prices\n",
    "\n",
    "Henry Hub futures: https://www.cmegroup.com/trading/energy/natural-gas/natural-gas.html\n",
    "        \n",
    "October 2019 is 2.419"
   ]
  },
  {
   "cell_type": "code",
   "execution_count": 15,
   "metadata": {},
   "outputs": [],
   "source": [
    "F_Oct = 2.419"
   ]
  },
  {
   "cell_type": "code",
   "execution_count": 16,
   "metadata": {},
   "outputs": [
    {
     "name": "stdout",
     "output_type": "stream",
     "text": [
      "5.641258912991038\n"
     ]
    }
   ],
   "source": [
    "daUnitCost = monthlyUnitCost(i,F_Oct,b,c,n)\n",
    "print(daUnitCost)"
   ]
  },
  {
   "cell_type": "code",
   "execution_count": 18,
   "metadata": {},
   "outputs": [
    {
     "name": "stdout",
     "output_type": "stream",
     "text": [
      "42.864\n"
     ]
    }
   ],
   "source": [
    "levelizedCostOfNaturalGas = 5.64*7.6 # 7.6 is the heat rate in \n",
    "#mmBtu/MWh of \n",
    "# a CCGT plant with typical or average efficiency today. \n",
    "#LCONG then has to be\n",
    "# compared with the LCOE from a VRE PPA.\n",
    "# levelizedCostOfNaturalGas has dimensions dollars/MWh.\n",
    "\n",
    "print(levelizedCostOfNaturalGas)"
   ]
  },
  {
   "cell_type": "code",
   "execution_count": null,
   "metadata": {},
   "outputs": [],
   "source": []
  }
 ],
 "metadata": {
  "kernelspec": {
   "display_name": "Python 3",
   "language": "python",
   "name": "python3"
  },
  "language_info": {
   "codemirror_mode": {
    "name": "ipython",
    "version": 3
   },
   "file_extension": ".py",
   "mimetype": "text/x-python",
   "name": "python",
   "nbconvert_exporter": "python",
   "pygments_lexer": "ipython3",
   "version": "3.7.3"
  }
 },
 "nbformat": 4,
 "nbformat_minor": 4
}
